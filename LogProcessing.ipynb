{
 "cells": [
  {
   "cell_type": "markdown",
   "metadata": {},
   "source": [
    "## Parsing logs for error messages"
   ]
  },
  {
   "cell_type": "markdown",
   "metadata": {},
   "source": [
    "### Standard Python version"
   ]
  },
  {
   "cell_type": "code",
   "execution_count": 2,
   "metadata": {
    "collapsed": false
   },
   "outputs": [
    {
     "name": "stdout",
     "output_type": "stream",
     "text": [
      "Total count:8281188, Error count:23949, Error percent:0.289198%\n"
     ]
    }
   ],
   "source": [
    "import gzip\n",
    "f =  gzip.open('server.log.gz', 'r')\n",
    "line_count = 0\n",
    "error_count = 0\n",
    "\n",
    "for line in f:\n",
    "    log_line = line.decode(\"utf-8\")\n",
    "    if log_line.find('HTTP/1.0\" 4') >= 0:\n",
    "        error_count += 1\n",
    "    line_count += 1\n",
    "    \n",
    "print('Total count:{:d}, Error count:{:d}, Error percent:{:f}%'\n",
    "      .format(line_count, error_count, \n",
    "              error_count*100/line_count))"
   ]
  },
  {
   "cell_type": "markdown",
   "metadata": {},
   "source": [
    "#### Copy Files to local HDFS running in the docker container. May take few minutes."
   ]
  },
  {
   "cell_type": "code",
   "execution_count": 1,
   "metadata": {
    "collapsed": false
   },
   "outputs": [
    {
     "name": "stdout",
     "output_type": "stream",
     "text": [
      "Found 3 items\r\n",
      "drwxr-xr-x   - root supergroup          0 2015-01-15 04:05 input\r\n",
      "-rw-r--r--   1 root supergroup 1627794620 2015-10-29 15:19 server.log\r\n",
      "-rw-r--r--   1 root supergroup  470808452 2015-10-29 15:17 tweets.json\r\n"
     ]
    }
   ],
   "source": [
    "!hdfs dfs -copyFromLocal tweets.json tweets.json\n",
    "!hdfs dfs -copyFromLocal server.log server.log\n",
    "!hdfs dfs -ls ."
   ]
  },
  {
   "cell_type": "markdown",
   "metadata": {},
   "source": [
    "## PySpark version"
   ]
  },
  {
   "cell_type": "markdown",
   "metadata": {},
   "source": [
    "lets define a function which we will call it from map phase. This is one of the awesome feature of Spark where you can easily call any custom or built-in python function as part of a spark job."
   ]
  },
  {
   "cell_type": "code",
   "execution_count": 4,
   "metadata": {
    "collapsed": true
   },
   "outputs": [],
   "source": [
    "def find_http_error(line):\n",
    "    return line.find('HTTP/1.0\" 4')"
   ]
  },
  {
   "cell_type": "code",
   "execution_count": 5,
   "metadata": {
    "collapsed": false
   },
   "outputs": [
    {
     "name": "stdout",
     "output_type": "stream",
     "text": [
      "Total count:8281188, Error count:23949, Error percent:0.289198%\n"
     ]
    }
   ],
   "source": [
    "rdd = sc.textFile(\"server.log\")\n",
    "#Mapper\n",
    "rdd_filtered = rdd.filter(lambda line : \n",
    "                          find_http_error(line) >= 0)\n",
    "#Reducers\n",
    "line_count = rdd.count()\n",
    "error_count = rdd_filtered.count()\n",
    "\n",
    "print('Total count:{:d}, Error count:{:d}, Error percent:{:f}%'\n",
    "      .format(line_count, error_count, error_count*100/line_count));"
   ]
  },
  {
   "cell_type": "code",
   "execution_count": null,
   "metadata": {
    "collapsed": true
   },
   "outputs": [],
   "source": []
  }
 ],
 "metadata": {
  "kernelspec": {
   "display_name": "Python 3",
   "language": "python",
   "name": "python3"
  },
  "language_info": {
   "codemirror_mode": {
    "name": "ipython",
    "version": 3
   },
   "file_extension": ".py",
   "mimetype": "text/x-python",
   "name": "python",
   "nbconvert_exporter": "python",
   "pygments_lexer": "ipython3",
   "version": "3.4.3"
  }
 },
 "nbformat": 4,
 "nbformat_minor": 0
}
